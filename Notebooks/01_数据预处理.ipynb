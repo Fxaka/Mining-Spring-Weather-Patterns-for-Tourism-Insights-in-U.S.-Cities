{
 "cells": [
  {
   "cell_type": "code",
   "execution_count": 2,
   "id": "0bcbab68-2350-4193-8318-8bea3f059b95",
   "metadata": {},
   "outputs": [],
   "source": [
    "# 导入常用库\n",
    "import pandas as pd\n",
    "import numpy as np\n",
    "import matplotlib.pyplot as plt\n",
    "import seaborn as sns\n",
    "\n",
    "# 设置图表风格\n",
    "sns.set(style=\"whitegrid\")\n",
    "pd.set_option('display.max_columns', None)"
   ]
  },
  {
   "cell_type": "code",
   "execution_count": 3,
   "id": "76e7aa17-d84c-4f4c-ae55-64899ce78ad5",
   "metadata": {},
   "outputs": [],
   "source": [
    "plt.rcParams['font.sans-serif'] = ['SimHei']  # 替换为系统已有的中文字体\n",
    "plt.rcParams['axes.unicode_minus'] = False  # 解决负号显示问题"
   ]
  },
  {
   "cell_type": "markdown",
   "id": "8206c042-beef-4d83-a89c-44c542287d06",
   "metadata": {},
   "source": [
    "### 读取原始数据"
   ]
  },
  {
   "cell_type": "code",
   "execution_count": 4,
   "id": "6b106f2a-ed4c-43e3-aaa5-91af01d29ccf",
   "metadata": {},
   "outputs": [
    {
     "data": {
      "text/html": [
       "<div>\n",
       "<style scoped>\n",
       "    .dataframe tbody tr th:only-of-type {\n",
       "        vertical-align: middle;\n",
       "    }\n",
       "\n",
       "    .dataframe tbody tr th {\n",
       "        vertical-align: top;\n",
       "    }\n",
       "\n",
       "    .dataframe thead th {\n",
       "        text-align: right;\n",
       "    }\n",
       "</style>\n",
       "<table border=\"1\" class=\"dataframe\">\n",
       "  <thead>\n",
       "    <tr style=\"text-align: right;\">\n",
       "      <th></th>\n",
       "      <th>Location</th>\n",
       "      <th>Date_Time</th>\n",
       "      <th>Temperature_C</th>\n",
       "      <th>Humidity_pct</th>\n",
       "      <th>Precipitation_mm</th>\n",
       "      <th>Wind_Speed_kmh</th>\n",
       "    </tr>\n",
       "  </thead>\n",
       "  <tbody>\n",
       "    <tr>\n",
       "      <th>0</th>\n",
       "      <td>San Diego</td>\n",
       "      <td>2024-01-14 21:12:46</td>\n",
       "      <td>10.683001</td>\n",
       "      <td>41.195754</td>\n",
       "      <td>4.020119</td>\n",
       "      <td>8.233540</td>\n",
       "    </tr>\n",
       "    <tr>\n",
       "      <th>1</th>\n",
       "      <td>San Diego</td>\n",
       "      <td>2024-05-17 15:22:10</td>\n",
       "      <td>8.734140</td>\n",
       "      <td>58.319107</td>\n",
       "      <td>9.111623</td>\n",
       "      <td>27.715161</td>\n",
       "    </tr>\n",
       "    <tr>\n",
       "      <th>2</th>\n",
       "      <td>San Diego</td>\n",
       "      <td>2024-05-11 09:30:59</td>\n",
       "      <td>11.632436</td>\n",
       "      <td>38.820175</td>\n",
       "      <td>4.607511</td>\n",
       "      <td>28.732951</td>\n",
       "    </tr>\n",
       "    <tr>\n",
       "      <th>3</th>\n",
       "      <td>Philadelphia</td>\n",
       "      <td>2024-02-26 17:32:39</td>\n",
       "      <td>-8.628976</td>\n",
       "      <td>54.074474</td>\n",
       "      <td>3.183720</td>\n",
       "      <td>26.367303</td>\n",
       "    </tr>\n",
       "    <tr>\n",
       "      <th>4</th>\n",
       "      <td>San Antonio</td>\n",
       "      <td>2024-04-29 13:23:51</td>\n",
       "      <td>39.808213</td>\n",
       "      <td>72.899908</td>\n",
       "      <td>9.598282</td>\n",
       "      <td>29.898622</td>\n",
       "    </tr>\n",
       "  </tbody>\n",
       "</table>\n",
       "</div>"
      ],
      "text/plain": [
       "       Location            Date_Time  Temperature_C  Humidity_pct  \\\n",
       "0     San Diego  2024-01-14 21:12:46      10.683001     41.195754   \n",
       "1     San Diego  2024-05-17 15:22:10       8.734140     58.319107   \n",
       "2     San Diego  2024-05-11 09:30:59      11.632436     38.820175   \n",
       "3  Philadelphia  2024-02-26 17:32:39      -8.628976     54.074474   \n",
       "4   San Antonio  2024-04-29 13:23:51      39.808213     72.899908   \n",
       "\n",
       "   Precipitation_mm  Wind_Speed_kmh  \n",
       "0          4.020119        8.233540  \n",
       "1          9.111623       27.715161  \n",
       "2          4.607511       28.732951  \n",
       "3          3.183720       26.367303  \n",
       "4          9.598282       29.898622  "
      ]
     },
     "execution_count": 4,
     "metadata": {},
     "output_type": "execute_result"
    }
   ],
   "source": [
    "df = pd.read_csv('../Data/weather_data2024.csv')\n",
    "\n",
    "# 查看前几行\n",
    "df.head()"
   ]
  },
  {
   "cell_type": "markdown",
   "id": "c7850c89-a7a4-4843-9341-185e9da47fca",
   "metadata": {},
   "source": [
    "###  数据基本信息"
   ]
  },
  {
   "cell_type": "code",
   "execution_count": 5,
   "id": "4d262ad1-45a8-41f3-8f5b-7d7add8b5db2",
   "metadata": {},
   "outputs": [
    {
     "name": "stdout",
     "output_type": "stream",
     "text": [
      "<class 'pandas.core.frame.DataFrame'>\n",
      "RangeIndex: 1000000 entries, 0 to 999999\n",
      "Data columns (total 6 columns):\n",
      " #   Column            Non-Null Count    Dtype  \n",
      "---  ------            --------------    -----  \n",
      " 0   Location          1000000 non-null  object \n",
      " 1   Date_Time         1000000 non-null  object \n",
      " 2   Temperature_C     1000000 non-null  float64\n",
      " 3   Humidity_pct      1000000 non-null  float64\n",
      " 4   Precipitation_mm  1000000 non-null  float64\n",
      " 5   Wind_Speed_kmh    1000000 non-null  float64\n",
      "dtypes: float64(4), object(2)\n",
      "memory usage: 45.8+ MB\n"
     ]
    },
    {
     "data": {
      "text/plain": [
       "Location            0\n",
       "Date_Time           0\n",
       "Temperature_C       0\n",
       "Humidity_pct        0\n",
       "Precipitation_mm    0\n",
       "Wind_Speed_kmh      0\n",
       "dtype: int64"
      ]
     },
     "execution_count": 5,
     "metadata": {},
     "output_type": "execute_result"
    }
   ],
   "source": [
    "df.info()\n",
    "df.describe()\n",
    "df.isnull().sum()"
   ]
  },
  {
   "cell_type": "markdown",
   "id": "7fb15b6c-a85c-441a-aef8-7c1d58cf12a3",
   "metadata": {},
   "source": [
    "### 标准化时间字段"
   ]
  },
  {
   "cell_type": "code",
   "execution_count": 6,
   "id": "a53b50d5-797c-435e-b92c-901f01a10478",
   "metadata": {},
   "outputs": [
    {
     "data": {
      "text/html": [
       "<div>\n",
       "<style scoped>\n",
       "    .dataframe tbody tr th:only-of-type {\n",
       "        vertical-align: middle;\n",
       "    }\n",
       "\n",
       "    .dataframe tbody tr th {\n",
       "        vertical-align: top;\n",
       "    }\n",
       "\n",
       "    .dataframe thead th {\n",
       "        text-align: right;\n",
       "    }\n",
       "</style>\n",
       "<table border=\"1\" class=\"dataframe\">\n",
       "  <thead>\n",
       "    <tr style=\"text-align: right;\">\n",
       "      <th></th>\n",
       "      <th>Location</th>\n",
       "      <th>Date_Time</th>\n",
       "      <th>Temperature_C</th>\n",
       "      <th>Humidity_pct</th>\n",
       "      <th>Precipitation_mm</th>\n",
       "      <th>Wind_Speed_kmh</th>\n",
       "    </tr>\n",
       "  </thead>\n",
       "  <tbody>\n",
       "  </tbody>\n",
       "</table>\n",
       "</div>"
      ],
      "text/plain": [
       "Empty DataFrame\n",
       "Columns: [Location, Date_Time, Temperature_C, Humidity_pct, Precipitation_mm, Wind_Speed_kmh]\n",
       "Index: []"
      ]
     },
     "execution_count": 6,
     "metadata": {},
     "output_type": "execute_result"
    }
   ],
   "source": [
    "df['Date_Time'] = pd.to_datetime(df['Date_Time'], errors='coerce')\n",
    "\n",
    "# 检查是否有转换失败的项\n",
    "df[df['Date_Time'].isna()]"
   ]
  },
  {
   "cell_type": "markdown",
   "id": "ad0e26bd-e6e9-49d2-b591-555896e5b356",
   "metadata": {},
   "source": [
    "### 异常值筛选"
   ]
  },
  {
   "cell_type": "code",
   "execution_count": 7,
   "id": "47793a3c-b221-4452-a3ab-4bd83e2cf0b2",
   "metadata": {},
   "outputs": [
    {
     "data": {
      "text/html": [
       "<div>\n",
       "<style scoped>\n",
       "    .dataframe tbody tr th:only-of-type {\n",
       "        vertical-align: middle;\n",
       "    }\n",
       "\n",
       "    .dataframe tbody tr th {\n",
       "        vertical-align: top;\n",
       "    }\n",
       "\n",
       "    .dataframe thead th {\n",
       "        text-align: right;\n",
       "    }\n",
       "</style>\n",
       "<table border=\"1\" class=\"dataframe\">\n",
       "  <thead>\n",
       "    <tr style=\"text-align: right;\">\n",
       "      <th></th>\n",
       "      <th>Location</th>\n",
       "      <th>Date_Time</th>\n",
       "      <th>Temperature_C</th>\n",
       "      <th>Humidity_pct</th>\n",
       "      <th>Precipitation_mm</th>\n",
       "      <th>Wind_Speed_kmh</th>\n",
       "    </tr>\n",
       "  </thead>\n",
       "  <tbody>\n",
       "  </tbody>\n",
       "</table>\n",
       "</div>"
      ],
      "text/plain": [
       "Empty DataFrame\n",
       "Columns: [Location, Date_Time, Temperature_C, Humidity_pct, Precipitation_mm, Wind_Speed_kmh]\n",
       "Index: []"
      ]
     },
     "execution_count": 7,
     "metadata": {},
     "output_type": "execute_result"
    }
   ],
   "source": [
    "# 异常值检测\n",
    "# 湿度是否超过100%\n",
    "df[df['Humidity_pct'] > 100]\n",
    "\n",
    "# 气温小于 -50 的情况\n",
    "df[df['Temperature_C'] < -50]\n"
   ]
  },
  {
   "cell_type": "markdown",
   "id": "fde0e890-412c-4a6c-a117-9328fb91337f",
   "metadata": {},
   "source": [
    "### 各变量描述性统计（按城市分组）"
   ]
  },
  {
   "cell_type": "code",
   "execution_count": 8,
   "id": "948a6605-bb31-48a2-aa55-38a32e96f68e",
   "metadata": {},
   "outputs": [
    {
     "data": {
      "text/html": [
       "<div>\n",
       "<style scoped>\n",
       "    .dataframe tbody tr th:only-of-type {\n",
       "        vertical-align: middle;\n",
       "    }\n",
       "\n",
       "    .dataframe tbody tr th {\n",
       "        vertical-align: top;\n",
       "    }\n",
       "\n",
       "    .dataframe thead tr th {\n",
       "        text-align: left;\n",
       "    }\n",
       "\n",
       "    .dataframe thead tr:last-of-type th {\n",
       "        text-align: right;\n",
       "    }\n",
       "</style>\n",
       "<table border=\"1\" class=\"dataframe\">\n",
       "  <thead>\n",
       "    <tr>\n",
       "      <th></th>\n",
       "      <th colspan=\"3\" halign=\"left\">Temperature_C</th>\n",
       "      <th>Humidity_pct</th>\n",
       "      <th>Precipitation_mm</th>\n",
       "      <th>Wind_Speed_kmh</th>\n",
       "    </tr>\n",
       "    <tr>\n",
       "      <th></th>\n",
       "      <th>mean</th>\n",
       "      <th>min</th>\n",
       "      <th>max</th>\n",
       "      <th>mean</th>\n",
       "      <th>sum</th>\n",
       "      <th>mean</th>\n",
       "    </tr>\n",
       "    <tr>\n",
       "      <th>Location</th>\n",
       "      <th></th>\n",
       "      <th></th>\n",
       "      <th></th>\n",
       "      <th></th>\n",
       "      <th></th>\n",
       "      <th></th>\n",
       "    </tr>\n",
       "  </thead>\n",
       "  <tbody>\n",
       "    <tr>\n",
       "      <th>Chicago</th>\n",
       "      <td>15.01</td>\n",
       "      <td>-10.00</td>\n",
       "      <td>40.0</td>\n",
       "      <td>60.09</td>\n",
       "      <td>501136.93</td>\n",
       "      <td>15.00</td>\n",
       "    </tr>\n",
       "    <tr>\n",
       "      <th>Dallas</th>\n",
       "      <td>15.01</td>\n",
       "      <td>-10.00</td>\n",
       "      <td>40.0</td>\n",
       "      <td>59.96</td>\n",
       "      <td>499430.93</td>\n",
       "      <td>15.02</td>\n",
       "    </tr>\n",
       "    <tr>\n",
       "      <th>Houston</th>\n",
       "      <td>14.94</td>\n",
       "      <td>-10.00</td>\n",
       "      <td>40.0</td>\n",
       "      <td>59.97</td>\n",
       "      <td>500155.54</td>\n",
       "      <td>14.99</td>\n",
       "    </tr>\n",
       "    <tr>\n",
       "      <th>Los Angeles</th>\n",
       "      <td>15.08</td>\n",
       "      <td>-10.00</td>\n",
       "      <td>40.0</td>\n",
       "      <td>60.07</td>\n",
       "      <td>500058.77</td>\n",
       "      <td>15.04</td>\n",
       "    </tr>\n",
       "    <tr>\n",
       "      <th>New York</th>\n",
       "      <td>15.01</td>\n",
       "      <td>-10.00</td>\n",
       "      <td>40.0</td>\n",
       "      <td>60.04</td>\n",
       "      <td>499165.85</td>\n",
       "      <td>14.99</td>\n",
       "    </tr>\n",
       "    <tr>\n",
       "      <th>Philadelphia</th>\n",
       "      <td>15.04</td>\n",
       "      <td>-10.00</td>\n",
       "      <td>40.0</td>\n",
       "      <td>60.04</td>\n",
       "      <td>501467.10</td>\n",
       "      <td>14.99</td>\n",
       "    </tr>\n",
       "    <tr>\n",
       "      <th>Phoenix</th>\n",
       "      <td>12.79</td>\n",
       "      <td>-19.97</td>\n",
       "      <td>40.0</td>\n",
       "      <td>60.05</td>\n",
       "      <td>610020.81</td>\n",
       "      <td>14.98</td>\n",
       "    </tr>\n",
       "    <tr>\n",
       "      <th>San Antonio</th>\n",
       "      <td>15.03</td>\n",
       "      <td>-10.00</td>\n",
       "      <td>40.0</td>\n",
       "      <td>59.93</td>\n",
       "      <td>500618.82</td>\n",
       "      <td>14.96</td>\n",
       "    </tr>\n",
       "    <tr>\n",
       "      <th>San Diego</th>\n",
       "      <td>14.93</td>\n",
       "      <td>-10.00</td>\n",
       "      <td>40.0</td>\n",
       "      <td>60.07</td>\n",
       "      <td>499527.82</td>\n",
       "      <td>15.04</td>\n",
       "    </tr>\n",
       "    <tr>\n",
       "      <th>San Jose</th>\n",
       "      <td>14.96</td>\n",
       "      <td>-10.00</td>\n",
       "      <td>40.0</td>\n",
       "      <td>59.99</td>\n",
       "      <td>498056.57</td>\n",
       "      <td>14.97</td>\n",
       "    </tr>\n",
       "  </tbody>\n",
       "</table>\n",
       "</div>"
      ],
      "text/plain": [
       "             Temperature_C              Humidity_pct Precipitation_mm  \\\n",
       "                      mean    min   max         mean              sum   \n",
       "Location                                                                \n",
       "Chicago              15.01 -10.00  40.0        60.09        501136.93   \n",
       "Dallas               15.01 -10.00  40.0        59.96        499430.93   \n",
       "Houston              14.94 -10.00  40.0        59.97        500155.54   \n",
       "Los Angeles          15.08 -10.00  40.0        60.07        500058.77   \n",
       "New York             15.01 -10.00  40.0        60.04        499165.85   \n",
       "Philadelphia         15.04 -10.00  40.0        60.04        501467.10   \n",
       "Phoenix              12.79 -19.97  40.0        60.05        610020.81   \n",
       "San Antonio          15.03 -10.00  40.0        59.93        500618.82   \n",
       "San Diego            14.93 -10.00  40.0        60.07        499527.82   \n",
       "San Jose             14.96 -10.00  40.0        59.99        498056.57   \n",
       "\n",
       "             Wind_Speed_kmh  \n",
       "                       mean  \n",
       "Location                     \n",
       "Chicago               15.00  \n",
       "Dallas                15.02  \n",
       "Houston               14.99  \n",
       "Los Angeles           15.04  \n",
       "New York              14.99  \n",
       "Philadelphia          14.99  \n",
       "Phoenix               14.98  \n",
       "San Antonio           14.96  \n",
       "San Diego             15.04  \n",
       "San Jose              14.97  "
      ]
     },
     "execution_count": 8,
     "metadata": {},
     "output_type": "execute_result"
    }
   ],
   "source": [
    "\n",
    "df.groupby('Location').agg({\n",
    "    'Temperature_C': ['mean', 'min', 'max'],\n",
    "    'Humidity_pct': ['mean'],\n",
    "    'Precipitation_mm': ['sum'],\n",
    "    'Wind_Speed_kmh': ['mean']\n",
    "}).round(2)\n",
    "\n",
    "# df.to_csv(\"城市气象统计表.csv\", index=True, encoding='utf-8-sig')"
   ]
  },
  {
   "cell_type": "markdown",
   "id": "f1e782ee-408e-4b99-86e8-a6b9e451f556",
   "metadata": {},
   "source": [
    "### 箱线图查看分布"
   ]
  },
  {
   "cell_type": "code",
   "execution_count": 10,
   "id": "0819ba2d-6ec7-43ae-837a-353297d2c77e",
   "metadata": {},
   "outputs": [
    {
     "data": {
      "image/png": "[encoded data removed]",
      "text/plain": [
       "<Figure size 1000x600 with 1 Axes>"
      ]
     },
     "metadata": {},
     "output_type": "display_data"
    }
   ],
   "source": [
    "plt.figure(figsize=(10, 6))\n",
    "sns.boxplot(data=df, x='Location', y='Temperature_C')\n",
    "plt.xticks(rotation=45)\n",
    "plt.title('各城市温度分布箱线图（未降采样）')\n",
    "plt.tight_layout()\n",
    "plt.savefig(\"../Figures/各城市温度分布箱线图（未降采样）.png\", dpi=300)\n",
    "plt.show()"
   ]
  },
  {
   "cell_type": "markdown",
   "id": "691da6b4-f107-49be-bf04-bd829e00804b",
   "metadata": {},
   "source": [
    "### 统计所有城市的气温数据总数"
   ]
  },
  {
   "cell_type": "code",
   "execution_count": 8,
   "id": "c9867e11-ffba-43d3-a5e1-dcbcef796a70",
   "metadata": {},
   "outputs": [
    {
     "name": "stdout",
     "output_type": "stream",
     "text": [
      "       Location  Temp_Data_Count\n",
      "0       Chicago           100164\n",
      "1        Dallas            99936\n",
      "2       Houston           100076\n",
      "3   Los Angeles            99922\n",
      "4      New York            99972\n",
      "5  Philadelphia           100122\n",
      "6       Phoenix           100209\n",
      "7   San Antonio            99962\n",
      "8     San Diego            99774\n",
      "9      San Jose            99863\n"
     ]
    }
   ],
   "source": [
    "temp_counts = df.groupby('Location')['Temperature_C'].count().reset_index(name='Temp_Data_Count')\n",
    "\n",
    "print(temp_counts)"
   ]
  },
  {
   "cell_type": "code",
   "execution_count": 30,
   "id": "d05f01aa-8120-4d01-8909-ea40e2d5f73c",
   "metadata": {},
   "outputs": [
    {
     "name": "stdout",
     "output_type": "stream",
     "text": [
      "Chicago 2024-01-01 数据条数: 722\n"
     ]
    }
   ],
   "source": [
    "df['Date_Time'] = pd.to_datetime(df['Date_Time'])\n",
    "\n",
    "# 选择某城市，统计一天数据条数\n",
    "city = 'Chicago'\n",
    "one_day = df[(df['Location'] == city) & (df['Date_Time'].dt.date == pd.to_datetime('2024-01-01').date())]\n",
    "print(f\"{city} 2024-01-01 数据条数: {len(one_day)}\")"
   ]
  },
  {
   "cell_type": "markdown",
   "id": "b6c2df76-17de-447b-900c-d3af742e8a26",
   "metadata": {},
   "source": [
    "### 数据条数过多，按每三个小时作为采样点处理数据"
   ]
  },
  {
   "cell_type": "code",
   "execution_count": 9,
   "id": "55c4e006-d567-43c6-9296-694a58a1f3ee",
   "metadata": {},
   "outputs": [
    {
     "name": "stderr",
     "output_type": "stream",
     "text": [
      "C:\\Users\\35275\\AppData\\Local\\Temp\\ipykernel_1628\\105343778.py:6: FutureWarning: 'H' is deprecated and will be removed in a future version, please use 'h' instead.\n",
      "  df_3h = df.resample('3H').first().reset_index()\n"
     ]
    },
    {
     "name": "stdout",
     "output_type": "stream",
     "text": [
      "3小时采样并插值后的数据已保存到 weather_data_3hourly_sample.csv\n"
     ]
    },
    {
     "name": "stderr",
     "output_type": "stream",
     "text": [
      "C:\\Users\\35275\\AppData\\Local\\Temp\\ipykernel_1628\\105343778.py:9: FutureWarning: 'H' is deprecated and will be removed in a future version, please use 'h' instead.\n",
      "  full_time_index = pd.date_range(start=df_3h['Date_Time'].min(), end=df_3h['Date_Time'].max(), freq='3H')\n",
      "C:\\Users\\35275\\AppData\\Local\\Temp\\ipykernel_1628\\105343778.py:20: FutureWarning: DataFrame.fillna with 'method' is deprecated and will raise in a future version. Use obj.ffill() or obj.bfill() instead.\n",
      "  df_3h_full[value_cols] = df_3h_full[value_cols].fillna(method='bfill').fillna(method='ffill')\n",
      "C:\\Users\\35275\\AppData\\Local\\Temp\\ipykernel_1628\\105343778.py:23: FutureWarning: Series.fillna with 'method' is deprecated and will raise in a future version. Use obj.ffill() or obj.bfill() instead.\n",
      "  df_3h_full['Location'] = df_3h_full['Location'].fillna(method='ffill').fillna(method='bfill')\n"
     ]
    }
   ],
   "source": [
    "# 转换时间格式，设定索引\n",
    "df['Date_Time'] = pd.to_datetime(df['Date_Time'])\n",
    "df.set_index('Date_Time', inplace=True)\n",
    "\n",
    "# 按每3小时采样，取第一个观测值\n",
    "df_3h = df.resample('3H').first().reset_index()\n",
    "\n",
    "# 创建完整的3小时时间序列，覆盖所有时间点\n",
    "full_time_index = pd.date_range(start=df_3h['Date_Time'].min(), end=df_3h['Date_Time'].max(), freq='3H')\n",
    "df_3h_full = pd.DataFrame({'Date_Time': full_time_index})\n",
    "\n",
    "# 合并采样数据与完整时间序列，保留所有时间点\n",
    "df_3h_full = df_3h_full.merge(df_3h, on='Date_Time', how='left')\n",
    "\n",
    "# 对数值列做线性插值，填补缺失\n",
    "value_cols = ['Temperature_C', 'Humidity_pct', 'Precipitation_mm', 'Wind_Speed_kmh']\n",
    "df_3h_full[value_cols] = df_3h_full[value_cols].interpolate(method='linear')\n",
    "\n",
    "# 前后填补可能残留的NaN值\n",
    "df_3h_full[value_cols] = df_3h_full[value_cols].fillna(method='bfill').fillna(method='ffill')\n",
    "\n",
    "# 如果 Location 列也缺失（通常只在某些时间点缺失），可以用ffill填充\n",
    "df_3h_full['Location'] = df_3h_full['Location'].fillna(method='ffill').fillna(method='bfill')\n",
    "\n",
    "# 保存为CSV\n",
    "df_3h_full.to_csv('weather_data_3hourly_sample.csv', index=False)\n",
    "\n",
    "print(\"3小时采样并插值后的数据已保存到 weather_data_3hourly_sample.csv\")"
   ]
  },
  {
   "cell_type": "code",
   "execution_count": null,
   "id": "18c3e081-ff3e-453b-8344-db6f471bd8d2",
   "metadata": {},
   "outputs": [],
   "source": []
  }
 ],
 "metadata": {
  "kernelspec": {
   "display_name": "Python (weather)",
   "language": "python",
   "name": "weather"
  },
  "language_info": {
   "codemirror_mode": {
    "name": "ipython",
    "version": 3
   },
   "file_extension": ".py",
   "mimetype": "text/x-python",
   "name": "python",
   "nbconvert_exporter": "python",
   "pygments_lexer": "ipython3",
   "version": "3.12.4"
  }
 },
 "nbformat": 4,
 "nbformat_minor": 5
}
